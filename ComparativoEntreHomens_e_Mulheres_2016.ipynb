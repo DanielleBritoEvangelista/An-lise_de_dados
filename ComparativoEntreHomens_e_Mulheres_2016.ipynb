{
 "cells": [
  {
   "cell_type": "markdown",
   "metadata": {},
   "source": [
    "# Análise de Dados\n",
    "\n",
    "### Análise sobre candidatos nas Eleções 2016. \n",
    "\n",
    "* Análise de quantidade de candidatos entre homens e mulheres. \n",
    "* Análise da idade de mulheres que se candidataram.\n",
    "\n",
    "Alunas: Nayara Lopes e Danielle Brito\n",
    "\n",
    "Dados: Disponível em https://www.tse.jus.br/hotsites/pesquisas-eleitorais/candidatos_anos/2016.html"
   ]
  },
  {
   "cell_type": "code",
   "execution_count": 1,
   "metadata": {},
   "outputs": [],
   "source": [
    "import numpy as np\n",
    "import pandas as pd\n",
    "import matplotlib.pyplot as plt\n",
    "import csv"
   ]
  },
  {
   "cell_type": "code",
   "execution_count": 2,
   "metadata": {},
   "outputs": [],
   "source": [
    "df = pd.read_csv('/home/nayara/trabalhoPy/trabalhoPy_env/consulta_cand_2016_SP.csv',header=0,encoding='ISO-8859-1', delimiter=';')"
   ]
  },
  {
   "cell_type": "code",
   "execution_count": 3,
   "metadata": {},
   "outputs": [
    {
     "data": {
      "text/html": [
       "<div>\n",
       "<style scoped>\n",
       "    .dataframe tbody tr th:only-of-type {\n",
       "        vertical-align: middle;\n",
       "    }\n",
       "\n",
       "    .dataframe tbody tr th {\n",
       "        vertical-align: top;\n",
       "    }\n",
       "\n",
       "    .dataframe thead th {\n",
       "        text-align: right;\n",
       "    }\n",
       "</style>\n",
       "<table border=\"1\" class=\"dataframe\">\n",
       "  <thead>\n",
       "    <tr style=\"text-align: right;\">\n",
       "      <th></th>\n",
       "      <th>NM_CANDIDATO</th>\n",
       "      <th>SG_PARTIDO</th>\n",
       "      <th>DT_NASCIMENTO</th>\n",
       "      <th>NR_IDADE_DATA_POSSE</th>\n",
       "      <th>DS_GENERO</th>\n",
       "    </tr>\n",
       "  </thead>\n",
       "  <tbody>\n",
       "    <tr>\n",
       "      <th>0</th>\n",
       "      <td>IDEVALTE UNGARI</td>\n",
       "      <td>PV</td>\n",
       "      <td>03/02/1949</td>\n",
       "      <td>67.0</td>\n",
       "      <td>MASCULINO</td>\n",
       "    </tr>\n",
       "    <tr>\n",
       "      <th>1</th>\n",
       "      <td>RAFAEL MASCHERIN MONTOURO</td>\n",
       "      <td>PR</td>\n",
       "      <td>09/02/1985</td>\n",
       "      <td>31.0</td>\n",
       "      <td>MASCULINO</td>\n",
       "    </tr>\n",
       "    <tr>\n",
       "      <th>2</th>\n",
       "      <td>GLEISON JOÃO GOMES PEGO</td>\n",
       "      <td>PTB</td>\n",
       "      <td>05/09/1979</td>\n",
       "      <td>37.0</td>\n",
       "      <td>MASCULINO</td>\n",
       "    </tr>\n",
       "    <tr>\n",
       "      <th>3</th>\n",
       "      <td>DIVA APARECIDA LORANDO</td>\n",
       "      <td>PTB</td>\n",
       "      <td>23/08/1961</td>\n",
       "      <td>55.0</td>\n",
       "      <td>FEMININO</td>\n",
       "    </tr>\n",
       "    <tr>\n",
       "      <th>4</th>\n",
       "      <td>ORLANDO COUTO JUNIOR</td>\n",
       "      <td>PV</td>\n",
       "      <td>05/07/1967</td>\n",
       "      <td>49.0</td>\n",
       "      <td>MASCULINO</td>\n",
       "    </tr>\n",
       "    <tr>\n",
       "      <th>...</th>\n",
       "      <td>...</td>\n",
       "      <td>...</td>\n",
       "      <td>...</td>\n",
       "      <td>...</td>\n",
       "      <td>...</td>\n",
       "    </tr>\n",
       "    <tr>\n",
       "      <th>86774</th>\n",
       "      <td>MANOEL AUGUSTO DE SOUZA</td>\n",
       "      <td>PMDB</td>\n",
       "      <td>12/01/1968</td>\n",
       "      <td>48.0</td>\n",
       "      <td>MASCULINO</td>\n",
       "    </tr>\n",
       "    <tr>\n",
       "      <th>86775</th>\n",
       "      <td>MAURÍCIO DIMAS COMISSO</td>\n",
       "      <td>PRB</td>\n",
       "      <td>20/06/1966</td>\n",
       "      <td>50.0</td>\n",
       "      <td>MASCULINO</td>\n",
       "    </tr>\n",
       "    <tr>\n",
       "      <th>86776</th>\n",
       "      <td>AILTON GOMES DE MORAES</td>\n",
       "      <td>PPS</td>\n",
       "      <td>04/07/1964</td>\n",
       "      <td>52.0</td>\n",
       "      <td>MASCULINO</td>\n",
       "    </tr>\n",
       "    <tr>\n",
       "      <th>86777</th>\n",
       "      <td>FELIPE AGUIAR MARTINS</td>\n",
       "      <td>PSDB</td>\n",
       "      <td>14/07/1988</td>\n",
       "      <td>28.0</td>\n",
       "      <td>MASCULINO</td>\n",
       "    </tr>\n",
       "    <tr>\n",
       "      <th>86778</th>\n",
       "      <td>RENER BRUNH DA SILVA MORAIS</td>\n",
       "      <td>PSOL</td>\n",
       "      <td>13/12/1965</td>\n",
       "      <td>51.0</td>\n",
       "      <td>MASCULINO</td>\n",
       "    </tr>\n",
       "  </tbody>\n",
       "</table>\n",
       "<p>86779 rows × 5 columns</p>\n",
       "</div>"
      ],
      "text/plain": [
       "                      NM_CANDIDATO SG_PARTIDO DT_NASCIMENTO  \\\n",
       "0                  IDEVALTE UNGARI         PV    03/02/1949   \n",
       "1        RAFAEL MASCHERIN MONTOURO         PR    09/02/1985   \n",
       "2          GLEISON JOÃO GOMES PEGO        PTB    05/09/1979   \n",
       "3           DIVA APARECIDA LORANDO        PTB    23/08/1961   \n",
       "4             ORLANDO COUTO JUNIOR         PV    05/07/1967   \n",
       "...                            ...        ...           ...   \n",
       "86774      MANOEL AUGUSTO DE SOUZA       PMDB    12/01/1968   \n",
       "86775       MAURÍCIO DIMAS COMISSO        PRB    20/06/1966   \n",
       "86776       AILTON GOMES DE MORAES        PPS    04/07/1964   \n",
       "86777        FELIPE AGUIAR MARTINS       PSDB    14/07/1988   \n",
       "86778  RENER BRUNH DA SILVA MORAIS       PSOL    13/12/1965   \n",
       "\n",
       "       NR_IDADE_DATA_POSSE  DS_GENERO  \n",
       "0                     67.0  MASCULINO  \n",
       "1                     31.0  MASCULINO  \n",
       "2                     37.0  MASCULINO  \n",
       "3                     55.0   FEMININO  \n",
       "4                     49.0  MASCULINO  \n",
       "...                    ...        ...  \n",
       "86774                 48.0  MASCULINO  \n",
       "86775                 50.0  MASCULINO  \n",
       "86776                 52.0  MASCULINO  \n",
       "86777                 28.0  MASCULINO  \n",
       "86778                 51.0  MASCULINO  \n",
       "\n",
       "[86779 rows x 5 columns]"
      ]
     },
     "execution_count": 3,
     "metadata": {},
     "output_type": "execute_result"
    }
   ],
   "source": [
    "df.iloc[0:,[17,28,38,39,42]]"
   ]
  },
  {
   "cell_type": "code",
   "execution_count": 4,
   "metadata": {},
   "outputs": [
    {
     "data": {
      "text/plain": [
       "NM_CANDIDATO\n",
       "JOSE ANTONIO ZANATTA                  NÃO DIVULGÁVEL\n",
       "CARLOS ALBERTO MATIUSO                NÃO DIVULGÁVEL\n",
       "MIRELA FABIANO LIMA                   NÃO DIVULGÁVEL\n",
       "OSIRES COLOSSO FILHO                  NÃO DIVULGÁVEL\n",
       "VANDERLEI BORGES DE CARVALHO          NÃO DIVULGÁVEL\n",
       "                                           ...      \n",
       "FRANCISCA LUCIA DOS SANTOS                  FEMININO\n",
       "FRANCISCA MACEDO DE SOUZA                   FEMININO\n",
       "FRANCISCA MARCIA DOS SANTOS MANFRE          FEMININO\n",
       "FRANCISCA MARIA DA CONCEIÇÃO SOUZA          FEMININO\n",
       "ELIZABETE FERREIRA LARA                     FEMININO\n",
       "Name: DS_GENERO, Length: 84013, dtype: object"
      ]
     },
     "execution_count": 4,
     "metadata": {},
     "output_type": "execute_result"
    }
   ],
   "source": [
    "df.groupby('NM_CANDIDATO')['DS_GENERO'].max().sort_values(ascending=False)"
   ]
  },
  {
   "cell_type": "code",
   "execution_count": 6,
   "metadata": {},
   "outputs": [
    {
     "data": {
      "image/png": "[encoded data removed]",
      "text/plain": [
       "<Figure size 432x288 with 1 Axes>"
      ]
     },
     "metadata": {
      "needs_background": "light"
     },
     "output_type": "display_data"
    }
   ],
   "source": [
    "df.groupby('DS_GENERO').size().plot(kind='barh').set_title('Análise de Candidatas Gênero', fontsize = 21)\n",
    "plt.xlabel('')\n",
    "plt.show()"
   ]
  },
  {
   "cell_type": "code",
   "execution_count": 7,
   "metadata": {},
   "outputs": [],
   "source": [
    "dados = df.loc[df['DS_GENERO'] == 'FEMININO']"
   ]
  },
  {
   "cell_type": "code",
   "execution_count": 8,
   "metadata": {},
   "outputs": [
    {
     "data": {
      "text/plain": [
       "3                    DIVA APARECIDA LORANDO\n",
       "5            MARIA APARECIDA BARBOSA SANTOS\n",
       "7              MARIA LUCIA DE JESUS FREITAS\n",
       "10                          TEREZA DE PAULA\n",
       "16                  MARIA HATUMI NIJI BUZZO\n",
       "                        ...                \n",
       "86759             CLAUDINÉIA SANTOS PEREIRA\n",
       "86764    MIRIAM APARECIDA DA SILVA ILESANMI\n",
       "86770      LUCIMAR APARECIDA CANDIDO CHAGAS\n",
       "86772                  MARIA DA SILVA NEVES\n",
       "86773      REGINALVA FERREIRA DO NASCIMENTO\n",
       "Name: NM_CANDIDATO, Length: 27736, dtype: object"
      ]
     },
     "execution_count": 8,
     "metadata": {},
     "output_type": "execute_result"
    }
   ],
   "source": [
    "dados['NM_CANDIDATO']"
   ]
  },
  {
   "cell_type": "code",
   "execution_count": 9,
   "metadata": {},
   "outputs": [
    {
     "data": {
      "text/html": [
       "<div>\n",
       "<style scoped>\n",
       "    .dataframe tbody tr th:only-of-type {\n",
       "        vertical-align: middle;\n",
       "    }\n",
       "\n",
       "    .dataframe tbody tr th {\n",
       "        vertical-align: top;\n",
       "    }\n",
       "\n",
       "    .dataframe thead th {\n",
       "        text-align: right;\n",
       "    }\n",
       "</style>\n",
       "<table border=\"1\" class=\"dataframe\">\n",
       "  <thead>\n",
       "    <tr style=\"text-align: right;\">\n",
       "      <th></th>\n",
       "      <th>NM_CANDIDATO</th>\n",
       "      <th>SG_PARTIDO</th>\n",
       "      <th>DT_NASCIMENTO</th>\n",
       "      <th>NR_IDADE_DATA_POSSE</th>\n",
       "      <th>DS_GENERO</th>\n",
       "    </tr>\n",
       "  </thead>\n",
       "  <tbody>\n",
       "    <tr>\n",
       "      <th>3</th>\n",
       "      <td>DIVA APARECIDA LORANDO</td>\n",
       "      <td>PTB</td>\n",
       "      <td>23/08/1961</td>\n",
       "      <td>55.0</td>\n",
       "      <td>FEMININO</td>\n",
       "    </tr>\n",
       "    <tr>\n",
       "      <th>5</th>\n",
       "      <td>MARIA APARECIDA BARBOSA SANTOS</td>\n",
       "      <td>PATRIOTA</td>\n",
       "      <td>27/04/1971</td>\n",
       "      <td>45.0</td>\n",
       "      <td>FEMININO</td>\n",
       "    </tr>\n",
       "    <tr>\n",
       "      <th>7</th>\n",
       "      <td>MARIA LUCIA DE JESUS FREITAS</td>\n",
       "      <td>PSDB</td>\n",
       "      <td>27/05/1967</td>\n",
       "      <td>49.0</td>\n",
       "      <td>FEMININO</td>\n",
       "    </tr>\n",
       "    <tr>\n",
       "      <th>10</th>\n",
       "      <td>TEREZA DE PAULA</td>\n",
       "      <td>PSDB</td>\n",
       "      <td>12/07/1963</td>\n",
       "      <td>53.0</td>\n",
       "      <td>FEMININO</td>\n",
       "    </tr>\n",
       "    <tr>\n",
       "      <th>16</th>\n",
       "      <td>MARIA HATUMI NIJI BUZZO</td>\n",
       "      <td>PSDB</td>\n",
       "      <td>20/10/1952</td>\n",
       "      <td>64.0</td>\n",
       "      <td>FEMININO</td>\n",
       "    </tr>\n",
       "    <tr>\n",
       "      <th>...</th>\n",
       "      <td>...</td>\n",
       "      <td>...</td>\n",
       "      <td>...</td>\n",
       "      <td>...</td>\n",
       "      <td>...</td>\n",
       "    </tr>\n",
       "    <tr>\n",
       "      <th>86759</th>\n",
       "      <td>CLAUDINÉIA SANTOS PEREIRA</td>\n",
       "      <td>PV</td>\n",
       "      <td>06/04/1974</td>\n",
       "      <td>42.0</td>\n",
       "      <td>FEMININO</td>\n",
       "    </tr>\n",
       "    <tr>\n",
       "      <th>86764</th>\n",
       "      <td>MIRIAM APARECIDA DA SILVA ILESANMI</td>\n",
       "      <td>PC do B</td>\n",
       "      <td>06/02/1961</td>\n",
       "      <td>55.0</td>\n",
       "      <td>FEMININO</td>\n",
       "    </tr>\n",
       "    <tr>\n",
       "      <th>86770</th>\n",
       "      <td>LUCIMAR APARECIDA CANDIDO CHAGAS</td>\n",
       "      <td>SD</td>\n",
       "      <td>20/02/1974</td>\n",
       "      <td>42.0</td>\n",
       "      <td>FEMININO</td>\n",
       "    </tr>\n",
       "    <tr>\n",
       "      <th>86772</th>\n",
       "      <td>MARIA DA SILVA NEVES</td>\n",
       "      <td>PR</td>\n",
       "      <td>25/07/1956</td>\n",
       "      <td>60.0</td>\n",
       "      <td>FEMININO</td>\n",
       "    </tr>\n",
       "    <tr>\n",
       "      <th>86773</th>\n",
       "      <td>REGINALVA FERREIRA DO NASCIMENTO</td>\n",
       "      <td>PSDB</td>\n",
       "      <td>15/04/1981</td>\n",
       "      <td>35.0</td>\n",
       "      <td>FEMININO</td>\n",
       "    </tr>\n",
       "  </tbody>\n",
       "</table>\n",
       "<p>27736 rows × 5 columns</p>\n",
       "</div>"
      ],
      "text/plain": [
       "                             NM_CANDIDATO SG_PARTIDO DT_NASCIMENTO  \\\n",
       "3                  DIVA APARECIDA LORANDO        PTB    23/08/1961   \n",
       "5          MARIA APARECIDA BARBOSA SANTOS   PATRIOTA    27/04/1971   \n",
       "7            MARIA LUCIA DE JESUS FREITAS       PSDB    27/05/1967   \n",
       "10                        TEREZA DE PAULA       PSDB    12/07/1963   \n",
       "16                MARIA HATUMI NIJI BUZZO       PSDB    20/10/1952   \n",
       "...                                   ...        ...           ...   \n",
       "86759           CLAUDINÉIA SANTOS PEREIRA         PV    06/04/1974   \n",
       "86764  MIRIAM APARECIDA DA SILVA ILESANMI    PC do B    06/02/1961   \n",
       "86770    LUCIMAR APARECIDA CANDIDO CHAGAS         SD    20/02/1974   \n",
       "86772                MARIA DA SILVA NEVES         PR    25/07/1956   \n",
       "86773    REGINALVA FERREIRA DO NASCIMENTO       PSDB    15/04/1981   \n",
       "\n",
       "       NR_IDADE_DATA_POSSE DS_GENERO  \n",
       "3                     55.0  FEMININO  \n",
       "5                     45.0  FEMININO  \n",
       "7                     49.0  FEMININO  \n",
       "10                    53.0  FEMININO  \n",
       "16                    64.0  FEMININO  \n",
       "...                    ...       ...  \n",
       "86759                 42.0  FEMININO  \n",
       "86764                 55.0  FEMININO  \n",
       "86770                 42.0  FEMININO  \n",
       "86772                 60.0  FEMININO  \n",
       "86773                 35.0  FEMININO  \n",
       "\n",
       "[27736 rows x 5 columns]"
      ]
     },
     "execution_count": 9,
     "metadata": {},
     "output_type": "execute_result"
    }
   ],
   "source": [
    "dados.iloc[0:,[17,28,38,39,42]]"
   ]
  },
  {
   "cell_type": "code",
   "execution_count": 10,
   "metadata": {},
   "outputs": [
    {
     "data": {
      "image/png": "[encoded data removed]",
      "text/plain": [
       "<Figure size 432x288 with 1 Axes>"
      ]
     },
     "metadata": {
      "needs_background": "light"
     },
     "output_type": "display_data"
    }
   ],
   "source": [
    "df.groupby('NR_IDADE_DATA_POSSE').size().plot(kind='line').set_title('Análise de Candidatas por idade', fontsize = 21)\n",
    "plt.xlabel('')\n",
    "plt.show()"
   ]
  },
  {
   "cell_type": "code",
   "execution_count": null,
   "metadata": {},
   "outputs": [],
   "source": []
  }
 ],
 "metadata": {
  "kernelspec": {
   "display_name": "Python 3",
   "language": "python",
   "name": "python3"
  },
  "language_info": {
   "codemirror_mode": {
    "name": "ipython",
    "version": 3
   },
   "file_extension": ".py",
   "mimetype": "text/x-python",
   "name": "python",
   "nbconvert_exporter": "python",
   "pygments_lexer": "ipython3",
   "version": "3.6.9"
  }
 },
 "nbformat": 4,
 "nbformat_minor": 4
}
